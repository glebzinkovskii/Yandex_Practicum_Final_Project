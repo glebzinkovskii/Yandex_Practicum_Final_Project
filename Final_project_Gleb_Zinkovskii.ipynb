{
 "cells": [
  {
   "cell_type": "markdown",
   "metadata": {},
   "source": [
    "<h1>Project Telecom - Identifying the inefficient operators</h1>"
   ]
  },
  {
   "cell_type": "markdown",
   "metadata": {},
   "source": [
    "<h2>Our Goals</h2>"
   ]
  },
  {
   "cell_type": "markdown",
   "metadata": {},
   "source": [
    "<ul>\n",
    "    <li>What do you want to achieve and why? - We want to develop a way to classify operators into 2 classes - efficient and inefficient based on 3 criteria.</li>\n",
    "    <li>Who's interested in what you produce? - We develop this classification model for the managers overseeing operators</li>\n",
    "    <li>What decisions will be made based on your analysis? - based on our model managers will decide which operators work more efficient than others and based on this adjust operators' composition within company</li>\n",
    "</ul>"
   ]
  },
  {
   "cell_type": "markdown",
   "metadata": {},
   "source": [
    "<h2>Steps to be done</h2>"
   ]
  },
  {
   "cell_type": "markdown",
   "metadata": {},
   "source": [
    "<ol>\n",
    "    <li>Data load and technical introduction(libraries to be used). Data set showing the logs of calls will be used to extract the values relevant for 3 criteria (total outcoming calls duration, total number of missed incoming calls (for those operators that were supposed to do outcoming calls), waiting duration for incoming calls) grouped by operator_id.</li>\n",
    "    <li>Data pre-processing and EDA - data needs to be initially assessed, cleared from duplicates, missing values need to be treated and the data set to be prepared for further analysis.</li>\n",
    "    <li>Based on the three items above then we will calculate composite equally weighted rating for each of the operators - the higher the rating the least efficient (more problematic) is the specific operator. Outcoming call duration should be contributing to rating with negative sign, while the other two will contribute with positive sign in accordance with the inefficiency criteria.</li>\n",
    "    <li>Identify the efficient and inefficient operators - use prepared data to train classification model(s) and identifying the factors leading to specific classification. My suggestion is to treat the operators with top 15% ranking values as inefficient ones and label them respectively, while others will be considered efficient. Then I suggest to run logistic regression on the whole set and treat the classification as binary problem.</li>\n",
    "    <li>Proposing hypotheses to be tested - the hypotheses to be tested should be aimed at investigating relationship between client's tariff and the number of missed calls, calls count, mean durations. For the purposes of testing, we can check 1) if the samples by tariff are distributed similarly using Wilconxon-Mann-Whitney Nonparametric Test; 2) if the mean criteria-related metrics mentioned above differ for operators serving users paying for different tariffs (we can perform t-tests for each pair A-B,B-C,A-C)</li>\n",
    "    <li>Conducting hypotheses testing and assembling results into a presentation</li>\n",
    "</ol>"
   ]
  },
  {
   "cell_type": "markdown",
   "metadata": {},
   "source": [
    "<h2>Deliverables to complete</h2>"
   ]
  },
  {
   "cell_type": "markdown",
   "metadata": {},
   "source": [
    "<ol>\n",
    "    <li>Dashboard (either Tableau or Dash/python) - https://public.tableau.com/views/CallMeMaybe-Gleb_Zinkovskii_Dashboard/Dashboard1?:language=en&:display_count=y&publish=yes&:origin=viz_share_link </li>\n",
    "    <li>Presentation with the results of the analysis https://docs.google.com/presentation/d/1_OJVlWJSOYt7RzEtlZZ3E9pfhRnIbzhVQwEc-uYPSek/edit?usp=sharing </li>\n",
    "    <li>Jupyter notebook with supporting code and analysis - HERE BELOW</li>\n",
    "</ol>"
   ]
  },
  {
   "cell_type": "markdown",
   "metadata": {},
   "source": [
    "# Step 1 - Data load and technical introduction (libraries to be used)"
   ]
  },
  {
   "cell_type": "code",
   "execution_count": 1,
   "metadata": {},
   "outputs": [],
   "source": [
    "#importing libraries that we need for EDA and visualization\n",
    "import pandas as pd\n",
    "import numpy as np\n",
    "import math as mth\n",
    "import matplotlib as mpl\n",
    "import matplotlib.pyplot as plt\n",
    "import seaborn as sns\n",
    "from sklearn.preprocessing import StandardScaler\n",
    "from scipy import stats as st\n",
    "from sklearn.cluster import KMeans\n",
    "from sklearn.model_selection import train_test_split\n",
    "from sklearn.linear_model import LogisticRegression\n",
    "from sklearn.metrics import classification_report, confusion_matrix\n",
    "from sklearn.ensemble import RandomForestRegressor, RandomForestClassifier\n",
    "from sklearn.metrics import accuracy_score, precision_score, recall_score, f1_score, mean_absolute_error, mean_squared_error, r2_score"
   ]
  },
  {
   "cell_type": "code",
   "execution_count": 1,
   "metadata": {},
   "outputs": [],
   "source": [
    "path_data_telecom = 'telecom_dataset_us.csv'\n",
    "path_data_clients = 'telecom_clients_us.csv'"
   ]
  },
  {
   "cell_type": "code",
   "execution_count": 3,
   "metadata": {},
   "outputs": [
    {
     "data": {
      "text/html": [
       "<div>\n",
       "<style scoped>\n",
       "    .dataframe tbody tr th:only-of-type {\n",
       "        vertical-align: middle;\n",
       "    }\n",
       "\n",
       "    .dataframe tbody tr th {\n",
       "        vertical-align: top;\n",
       "    }\n",
       "\n",
       "    .dataframe thead th {\n",
       "        text-align: right;\n",
       "    }\n",
       "</style>\n",
       "<table border=\"1\" class=\"dataframe\">\n",
       "  <thead>\n",
       "    <tr style=\"text-align: right;\">\n",
       "      <th></th>\n",
       "      <th>user_id</th>\n",
       "      <th>date</th>\n",
       "      <th>direction</th>\n",
       "      <th>internal</th>\n",
       "      <th>operator_id</th>\n",
       "      <th>is_missed_call</th>\n",
       "      <th>calls_count</th>\n",
       "      <th>call_duration</th>\n",
       "      <th>total_call_duration</th>\n",
       "    </tr>\n",
       "  </thead>\n",
       "  <tbody>\n",
       "    <tr>\n",
       "      <td>0</td>\n",
       "      <td>166377</td>\n",
       "      <td>2019-08-04 00:00:00+03:00</td>\n",
       "      <td>in</td>\n",
       "      <td>False</td>\n",
       "      <td>NaN</td>\n",
       "      <td>True</td>\n",
       "      <td>2</td>\n",
       "      <td>0</td>\n",
       "      <td>4</td>\n",
       "    </tr>\n",
       "    <tr>\n",
       "      <td>1</td>\n",
       "      <td>166377</td>\n",
       "      <td>2019-08-05 00:00:00+03:00</td>\n",
       "      <td>out</td>\n",
       "      <td>True</td>\n",
       "      <td>880022.0</td>\n",
       "      <td>True</td>\n",
       "      <td>3</td>\n",
       "      <td>0</td>\n",
       "      <td>5</td>\n",
       "    </tr>\n",
       "    <tr>\n",
       "      <td>2</td>\n",
       "      <td>166377</td>\n",
       "      <td>2019-08-05 00:00:00+03:00</td>\n",
       "      <td>out</td>\n",
       "      <td>True</td>\n",
       "      <td>880020.0</td>\n",
       "      <td>True</td>\n",
       "      <td>1</td>\n",
       "      <td>0</td>\n",
       "      <td>1</td>\n",
       "    </tr>\n",
       "    <tr>\n",
       "      <td>3</td>\n",
       "      <td>166377</td>\n",
       "      <td>2019-08-05 00:00:00+03:00</td>\n",
       "      <td>out</td>\n",
       "      <td>True</td>\n",
       "      <td>880020.0</td>\n",
       "      <td>False</td>\n",
       "      <td>1</td>\n",
       "      <td>10</td>\n",
       "      <td>18</td>\n",
       "    </tr>\n",
       "    <tr>\n",
       "      <td>4</td>\n",
       "      <td>166377</td>\n",
       "      <td>2019-08-05 00:00:00+03:00</td>\n",
       "      <td>out</td>\n",
       "      <td>False</td>\n",
       "      <td>880022.0</td>\n",
       "      <td>True</td>\n",
       "      <td>3</td>\n",
       "      <td>0</td>\n",
       "      <td>25</td>\n",
       "    </tr>\n",
       "  </tbody>\n",
       "</table>\n",
       "</div>"
      ],
      "text/plain": [
       "   user_id                       date direction internal  operator_id  \\\n",
       "0   166377  2019-08-04 00:00:00+03:00        in    False          NaN   \n",
       "1   166377  2019-08-05 00:00:00+03:00       out     True     880022.0   \n",
       "2   166377  2019-08-05 00:00:00+03:00       out     True     880020.0   \n",
       "3   166377  2019-08-05 00:00:00+03:00       out     True     880020.0   \n",
       "4   166377  2019-08-05 00:00:00+03:00       out    False     880022.0   \n",
       "\n",
       "   is_missed_call  calls_count  call_duration  total_call_duration  \n",
       "0            True            2              0                    4  \n",
       "1            True            3              0                    5  \n",
       "2            True            1              0                    1  \n",
       "3           False            1             10                   18  \n",
       "4            True            3              0                   25  "
      ]
     },
     "execution_count": 3,
     "metadata": {},
     "output_type": "execute_result"
    }
   ],
   "source": [
    "data_telecom = pd.read_csv(path_data_telecom)\n",
    "data_telecom.head()"
   ]
  },
  {
   "cell_type": "code",
   "execution_count": 4,
   "metadata": {},
   "outputs": [
    {
     "name": "stdout",
     "output_type": "stream",
     "text": [
      "<class 'pandas.core.frame.DataFrame'>\n",
      "RangeIndex: 53902 entries, 0 to 53901\n",
      "Data columns (total 9 columns):\n",
      "user_id                53902 non-null int64\n",
      "date                   53902 non-null object\n",
      "direction              53902 non-null object\n",
      "internal               53785 non-null object\n",
      "operator_id            45730 non-null float64\n",
      "is_missed_call         53902 non-null bool\n",
      "calls_count            53902 non-null int64\n",
      "call_duration          53902 non-null int64\n",
      "total_call_duration    53902 non-null int64\n",
      "dtypes: bool(1), float64(1), int64(4), object(3)\n",
      "memory usage: 3.3+ MB\n"
     ]
    }
   ],
   "source": [
    "data_telecom.info()"
   ]
  },
  {
   "cell_type": "code",
   "execution_count": 5,
   "metadata": {},
   "outputs": [
    {
     "data": {
      "text/html": [
       "<div>\n",
       "<style scoped>\n",
       "    .dataframe tbody tr th:only-of-type {\n",
       "        vertical-align: middle;\n",
       "    }\n",
       "\n",
       "    .dataframe tbody tr th {\n",
       "        vertical-align: top;\n",
       "    }\n",
       "\n",
       "    .dataframe thead th {\n",
       "        text-align: right;\n",
       "    }\n",
       "</style>\n",
       "<table border=\"1\" class=\"dataframe\">\n",
       "  <thead>\n",
       "    <tr style=\"text-align: right;\">\n",
       "      <th></th>\n",
       "      <th>user_id</th>\n",
       "      <th>tariff_plan</th>\n",
       "      <th>date_start</th>\n",
       "    </tr>\n",
       "  </thead>\n",
       "  <tbody>\n",
       "    <tr>\n",
       "      <td>0</td>\n",
       "      <td>166713</td>\n",
       "      <td>A</td>\n",
       "      <td>2019-08-15</td>\n",
       "    </tr>\n",
       "    <tr>\n",
       "      <td>1</td>\n",
       "      <td>166901</td>\n",
       "      <td>A</td>\n",
       "      <td>2019-08-23</td>\n",
       "    </tr>\n",
       "    <tr>\n",
       "      <td>2</td>\n",
       "      <td>168527</td>\n",
       "      <td>A</td>\n",
       "      <td>2019-10-29</td>\n",
       "    </tr>\n",
       "    <tr>\n",
       "      <td>3</td>\n",
       "      <td>167097</td>\n",
       "      <td>A</td>\n",
       "      <td>2019-09-01</td>\n",
       "    </tr>\n",
       "    <tr>\n",
       "      <td>4</td>\n",
       "      <td>168193</td>\n",
       "      <td>A</td>\n",
       "      <td>2019-10-16</td>\n",
       "    </tr>\n",
       "  </tbody>\n",
       "</table>\n",
       "</div>"
      ],
      "text/plain": [
       "   user_id tariff_plan  date_start\n",
       "0   166713           A  2019-08-15\n",
       "1   166901           A  2019-08-23\n",
       "2   168527           A  2019-10-29\n",
       "3   167097           A  2019-09-01\n",
       "4   168193           A  2019-10-16"
      ]
     },
     "execution_count": 5,
     "metadata": {},
     "output_type": "execute_result"
    }
   ],
   "source": [
    "data_clients = pd.read_csv(path_data_clients)\n",
    "data_clients.head()"
   ]
  },
  {
   "cell_type": "code",
   "execution_count": 6,
   "metadata": {},
   "outputs": [
    {
     "name": "stdout",
     "output_type": "stream",
     "text": [
      "<class 'pandas.core.frame.DataFrame'>\n",
      "RangeIndex: 732 entries, 0 to 731\n",
      "Data columns (total 3 columns):\n",
      "user_id        732 non-null int64\n",
      "tariff_plan    732 non-null object\n",
      "date_start     732 non-null object\n",
      "dtypes: int64(1), object(2)\n",
      "memory usage: 17.3+ KB\n"
     ]
    }
   ],
   "source": [
    "data_clients.info()"
   ]
  },
  {
   "cell_type": "markdown",
   "metadata": {},
   "source": [
    "# Conclusion"
   ]
  },
  {
   "cell_type": "markdown",
   "metadata": {},
   "source": [
    "We can see that the telecom data set has instances with missing data - operator_id (15.16% of the total volume) and internal (<1% of the total volume). At the same time, clients data set does not seem to have missing data. Next, for both of the sets will be checked for duplicates and zero-values."
   ]
  },
  {
   "cell_type": "markdown",
   "metadata": {},
   "source": [
    "# Step 2 - Data pre-procesing and EDA"
   ]
  },
  {
   "cell_type": "markdown",
   "metadata": {},
   "source": [
    "Let's check data on telecom for null values in any of the rows and columns:"
   ]
  },
  {
   "cell_type": "code",
   "execution_count": 7,
   "metadata": {},
   "outputs": [
    {
     "data": {
      "text/html": [
       "<div>\n",
       "<style scoped>\n",
       "    .dataframe tbody tr th:only-of-type {\n",
       "        vertical-align: middle;\n",
       "    }\n",
       "\n",
       "    .dataframe tbody tr th {\n",
       "        vertical-align: top;\n",
       "    }\n",
       "\n",
       "    .dataframe thead th {\n",
       "        text-align: right;\n",
       "    }\n",
       "</style>\n",
       "<table border=\"1\" class=\"dataframe\">\n",
       "  <thead>\n",
       "    <tr style=\"text-align: right;\">\n",
       "      <th></th>\n",
       "      <th>user_id</th>\n",
       "      <th>date</th>\n",
       "      <th>direction</th>\n",
       "      <th>internal</th>\n",
       "      <th>operator_id</th>\n",
       "      <th>is_missed_call</th>\n",
       "      <th>calls_count</th>\n",
       "      <th>call_duration</th>\n",
       "      <th>total_call_duration</th>\n",
       "    </tr>\n",
       "  </thead>\n",
       "  <tbody>\n",
       "    <tr>\n",
       "      <td>0</td>\n",
       "      <td>166377</td>\n",
       "      <td>2019-08-04 00:00:00+03:00</td>\n",
       "      <td>in</td>\n",
       "      <td>False</td>\n",
       "      <td>NaN</td>\n",
       "      <td>True</td>\n",
       "      <td>2</td>\n",
       "      <td>0</td>\n",
       "      <td>4</td>\n",
       "    </tr>\n",
       "    <tr>\n",
       "      <td>7</td>\n",
       "      <td>166377</td>\n",
       "      <td>2019-08-05 00:00:00+03:00</td>\n",
       "      <td>in</td>\n",
       "      <td>False</td>\n",
       "      <td>NaN</td>\n",
       "      <td>True</td>\n",
       "      <td>6</td>\n",
       "      <td>0</td>\n",
       "      <td>35</td>\n",
       "    </tr>\n",
       "    <tr>\n",
       "      <td>9</td>\n",
       "      <td>166377</td>\n",
       "      <td>2019-08-06 00:00:00+03:00</td>\n",
       "      <td>in</td>\n",
       "      <td>False</td>\n",
       "      <td>NaN</td>\n",
       "      <td>True</td>\n",
       "      <td>4</td>\n",
       "      <td>0</td>\n",
       "      <td>62</td>\n",
       "    </tr>\n",
       "    <tr>\n",
       "      <td>17</td>\n",
       "      <td>166377</td>\n",
       "      <td>2019-08-07 00:00:00+03:00</td>\n",
       "      <td>in</td>\n",
       "      <td>False</td>\n",
       "      <td>NaN</td>\n",
       "      <td>True</td>\n",
       "      <td>2</td>\n",
       "      <td>0</td>\n",
       "      <td>24</td>\n",
       "    </tr>\n",
       "    <tr>\n",
       "      <td>27</td>\n",
       "      <td>166377</td>\n",
       "      <td>2019-08-12 00:00:00+03:00</td>\n",
       "      <td>in</td>\n",
       "      <td>False</td>\n",
       "      <td>NaN</td>\n",
       "      <td>True</td>\n",
       "      <td>2</td>\n",
       "      <td>0</td>\n",
       "      <td>34</td>\n",
       "    </tr>\n",
       "    <tr>\n",
       "      <td>...</td>\n",
       "      <td>...</td>\n",
       "      <td>...</td>\n",
       "      <td>...</td>\n",
       "      <td>...</td>\n",
       "      <td>...</td>\n",
       "      <td>...</td>\n",
       "      <td>...</td>\n",
       "      <td>...</td>\n",
       "      <td>...</td>\n",
       "    </tr>\n",
       "    <tr>\n",
       "      <td>53876</td>\n",
       "      <td>168601</td>\n",
       "      <td>2019-11-27 00:00:00+03:00</td>\n",
       "      <td>in</td>\n",
       "      <td>False</td>\n",
       "      <td>NaN</td>\n",
       "      <td>True</td>\n",
       "      <td>2</td>\n",
       "      <td>0</td>\n",
       "      <td>39</td>\n",
       "    </tr>\n",
       "    <tr>\n",
       "      <td>53880</td>\n",
       "      <td>168601</td>\n",
       "      <td>2019-11-28 00:00:00+03:00</td>\n",
       "      <td>in</td>\n",
       "      <td>False</td>\n",
       "      <td>NaN</td>\n",
       "      <td>True</td>\n",
       "      <td>1</td>\n",
       "      <td>0</td>\n",
       "      <td>19</td>\n",
       "    </tr>\n",
       "    <tr>\n",
       "      <td>53889</td>\n",
       "      <td>168603</td>\n",
       "      <td>2019-11-28 00:00:00+03:00</td>\n",
       "      <td>in</td>\n",
       "      <td>False</td>\n",
       "      <td>NaN</td>\n",
       "      <td>True</td>\n",
       "      <td>1</td>\n",
       "      <td>0</td>\n",
       "      <td>30</td>\n",
       "    </tr>\n",
       "    <tr>\n",
       "      <td>53893</td>\n",
       "      <td>168606</td>\n",
       "      <td>2019-11-08 00:00:00+03:00</td>\n",
       "      <td>in</td>\n",
       "      <td>False</td>\n",
       "      <td>NaN</td>\n",
       "      <td>True</td>\n",
       "      <td>6</td>\n",
       "      <td>0</td>\n",
       "      <td>121</td>\n",
       "    </tr>\n",
       "    <tr>\n",
       "      <td>53901</td>\n",
       "      <td>168606</td>\n",
       "      <td>2019-11-19 00:00:00+03:00</td>\n",
       "      <td>in</td>\n",
       "      <td>False</td>\n",
       "      <td>NaN</td>\n",
       "      <td>True</td>\n",
       "      <td>2</td>\n",
       "      <td>0</td>\n",
       "      <td>64</td>\n",
       "    </tr>\n",
       "  </tbody>\n",
       "</table>\n",
       "<p>8232 rows × 9 columns</p>\n",
       "</div>"
      ],
      "text/plain": [
       "       user_id                       date direction internal  operator_id  \\\n",
       "0       166377  2019-08-04 00:00:00+03:00        in    False          NaN   \n",
       "7       166377  2019-08-05 00:00:00+03:00        in    False          NaN   \n",
       "9       166377  2019-08-06 00:00:00+03:00        in    False          NaN   \n",
       "17      166377  2019-08-07 00:00:00+03:00        in    False          NaN   \n",
       "27      166377  2019-08-12 00:00:00+03:00        in    False          NaN   \n",
       "...        ...                        ...       ...      ...          ...   \n",
       "53876   168601  2019-11-27 00:00:00+03:00        in    False          NaN   \n",
       "53880   168601  2019-11-28 00:00:00+03:00        in    False          NaN   \n",
       "53889   168603  2019-11-28 00:00:00+03:00        in    False          NaN   \n",
       "53893   168606  2019-11-08 00:00:00+03:00        in    False          NaN   \n",
       "53901   168606  2019-11-19 00:00:00+03:00        in    False          NaN   \n",
       "\n",
       "       is_missed_call  calls_count  call_duration  total_call_duration  \n",
       "0                True            2              0                    4  \n",
       "7                True            6              0                   35  \n",
       "9                True            4              0                   62  \n",
       "17               True            2              0                   24  \n",
       "27               True            2              0                   34  \n",
       "...               ...          ...            ...                  ...  \n",
       "53876            True            2              0                   39  \n",
       "53880            True            1              0                   19  \n",
       "53889            True            1              0                   30  \n",
       "53893            True            6              0                  121  \n",
       "53901            True            2              0                   64  \n",
       "\n",
       "[8232 rows x 9 columns]"
      ]
     },
     "execution_count": 7,
     "metadata": {},
     "output_type": "execute_result"
    }
   ],
   "source": [
    "data_telecom[data_telecom.isna().any(axis=1)]"
   ]
  },
  {
   "cell_type": "code",
   "execution_count": 8,
   "metadata": {},
   "outputs": [
    {
     "name": "stdout",
     "output_type": "stream",
     "text": [
      "The amount of rows with null data is  15.27%\n"
     ]
    }
   ],
   "source": [
    "print('The amount of rows with null data is ', '{:.2%}'.format(data_telecom[data_telecom.isna().any(axis=1)].shape[0]/data_telecom.shape[0]))"
   ]
  },
  {
   "cell_type": "code",
   "execution_count": 9,
   "metadata": {},
   "outputs": [
    {
     "data": {
      "text/html": [
       "<div>\n",
       "<style scoped>\n",
       "    .dataframe tbody tr th:only-of-type {\n",
       "        vertical-align: middle;\n",
       "    }\n",
       "\n",
       "    .dataframe tbody tr th {\n",
       "        vertical-align: top;\n",
       "    }\n",
       "\n",
       "    .dataframe thead th {\n",
       "        text-align: right;\n",
       "    }\n",
       "</style>\n",
       "<table border=\"1\" class=\"dataframe\">\n",
       "  <thead>\n",
       "    <tr style=\"text-align: right;\">\n",
       "      <th></th>\n",
       "      <th>user_id</th>\n",
       "      <th>date</th>\n",
       "      <th>direction</th>\n",
       "      <th>internal</th>\n",
       "      <th>operator_id</th>\n",
       "      <th>is_missed_call</th>\n",
       "      <th>calls_count</th>\n",
       "      <th>call_duration</th>\n",
       "      <th>total_call_duration</th>\n",
       "    </tr>\n",
       "  </thead>\n",
       "  <tbody>\n",
       "    <tr>\n",
       "      <td>8</td>\n",
       "      <td>166377</td>\n",
       "      <td>2019-08-05 00:00:00+03:00</td>\n",
       "      <td>out</td>\n",
       "      <td>False</td>\n",
       "      <td>880020.0</td>\n",
       "      <td>True</td>\n",
       "      <td>8</td>\n",
       "      <td>0</td>\n",
       "      <td>50</td>\n",
       "    </tr>\n",
       "    <tr>\n",
       "      <td>28</td>\n",
       "      <td>166377</td>\n",
       "      <td>2019-08-12 00:00:00+03:00</td>\n",
       "      <td>in</td>\n",
       "      <td>False</td>\n",
       "      <td>NaN</td>\n",
       "      <td>True</td>\n",
       "      <td>2</td>\n",
       "      <td>0</td>\n",
       "      <td>34</td>\n",
       "    </tr>\n",
       "    <tr>\n",
       "      <td>44</td>\n",
       "      <td>166377</td>\n",
       "      <td>2019-08-14 00:00:00+03:00</td>\n",
       "      <td>out</td>\n",
       "      <td>False</td>\n",
       "      <td>880026.0</td>\n",
       "      <td>False</td>\n",
       "      <td>10</td>\n",
       "      <td>1567</td>\n",
       "      <td>1654</td>\n",
       "    </tr>\n",
       "    <tr>\n",
       "      <td>45</td>\n",
       "      <td>166377</td>\n",
       "      <td>2019-08-14 00:00:00+03:00</td>\n",
       "      <td>in</td>\n",
       "      <td>False</td>\n",
       "      <td>NaN</td>\n",
       "      <td>True</td>\n",
       "      <td>1</td>\n",
       "      <td>0</td>\n",
       "      <td>3</td>\n",
       "    </tr>\n",
       "    <tr>\n",
       "      <td>51</td>\n",
       "      <td>166377</td>\n",
       "      <td>2019-08-15 00:00:00+03:00</td>\n",
       "      <td>out</td>\n",
       "      <td>False</td>\n",
       "      <td>880026.0</td>\n",
       "      <td>False</td>\n",
       "      <td>11</td>\n",
       "      <td>1413</td>\n",
       "      <td>1473</td>\n",
       "    </tr>\n",
       "    <tr>\n",
       "      <td>...</td>\n",
       "      <td>...</td>\n",
       "      <td>...</td>\n",
       "      <td>...</td>\n",
       "      <td>...</td>\n",
       "      <td>...</td>\n",
       "      <td>...</td>\n",
       "      <td>...</td>\n",
       "      <td>...</td>\n",
       "      <td>...</td>\n",
       "    </tr>\n",
       "    <tr>\n",
       "      <td>53869</td>\n",
       "      <td>168601</td>\n",
       "      <td>2019-11-25 00:00:00+03:00</td>\n",
       "      <td>in</td>\n",
       "      <td>False</td>\n",
       "      <td>952914.0</td>\n",
       "      <td>False</td>\n",
       "      <td>7</td>\n",
       "      <td>1229</td>\n",
       "      <td>1282</td>\n",
       "    </tr>\n",
       "    <tr>\n",
       "      <td>53874</td>\n",
       "      <td>168601</td>\n",
       "      <td>2019-11-26 00:00:00+03:00</td>\n",
       "      <td>in</td>\n",
       "      <td>False</td>\n",
       "      <td>952914.0</td>\n",
       "      <td>False</td>\n",
       "      <td>4</td>\n",
       "      <td>539</td>\n",
       "      <td>562</td>\n",
       "    </tr>\n",
       "    <tr>\n",
       "      <td>53875</td>\n",
       "      <td>168601</td>\n",
       "      <td>2019-11-26 00:00:00+03:00</td>\n",
       "      <td>in</td>\n",
       "      <td>False</td>\n",
       "      <td>NaN</td>\n",
       "      <td>True</td>\n",
       "      <td>3</td>\n",
       "      <td>0</td>\n",
       "      <td>35</td>\n",
       "    </tr>\n",
       "    <tr>\n",
       "      <td>53885</td>\n",
       "      <td>168603</td>\n",
       "      <td>2019-11-20 00:00:00+03:00</td>\n",
       "      <td>out</td>\n",
       "      <td>False</td>\n",
       "      <td>959118.0</td>\n",
       "      <td>True</td>\n",
       "      <td>3</td>\n",
       "      <td>0</td>\n",
       "      <td>89</td>\n",
       "    </tr>\n",
       "    <tr>\n",
       "      <td>53900</td>\n",
       "      <td>168606</td>\n",
       "      <td>2019-11-15 00:00:00+03:00</td>\n",
       "      <td>out</td>\n",
       "      <td>True</td>\n",
       "      <td>957922.0</td>\n",
       "      <td>False</td>\n",
       "      <td>4</td>\n",
       "      <td>3130</td>\n",
       "      <td>3190</td>\n",
       "    </tr>\n",
       "  </tbody>\n",
       "</table>\n",
       "<p>4900 rows × 9 columns</p>\n",
       "</div>"
      ],
      "text/plain": [
       "       user_id                       date direction internal  operator_id  \\\n",
       "8       166377  2019-08-05 00:00:00+03:00       out    False     880020.0   \n",
       "28      166377  2019-08-12 00:00:00+03:00        in    False          NaN   \n",
       "44      166377  2019-08-14 00:00:00+03:00       out    False     880026.0   \n",
       "45      166377  2019-08-14 00:00:00+03:00        in    False          NaN   \n",
       "51      166377  2019-08-15 00:00:00+03:00       out    False     880026.0   \n",
       "...        ...                        ...       ...      ...          ...   \n",
       "53869   168601  2019-11-25 00:00:00+03:00        in    False     952914.0   \n",
       "53874   168601  2019-11-26 00:00:00+03:00        in    False     952914.0   \n",
       "53875   168601  2019-11-26 00:00:00+03:00        in    False          NaN   \n",
       "53885   168603  2019-11-20 00:00:00+03:00       out    False     959118.0   \n",
       "53900   168606  2019-11-15 00:00:00+03:00       out     True     957922.0   \n",
       "\n",
       "       is_missed_call  calls_count  call_duration  total_call_duration  \n",
       "8                True            8              0                   50  \n",
       "28               True            2              0                   34  \n",
       "44              False           10           1567                 1654  \n",
       "45               True            1              0                    3  \n",
       "51              False           11           1413                 1473  \n",
       "...               ...          ...            ...                  ...  \n",
       "53869           False            7           1229                 1282  \n",
       "53874           False            4            539                  562  \n",
       "53875            True            3              0                   35  \n",
       "53885            True            3              0                   89  \n",
       "53900           False            4           3130                 3190  \n",
       "\n",
       "[4900 rows x 9 columns]"
      ]
     },
     "execution_count": 9,
     "metadata": {},
     "output_type": "execute_result"
    }
   ],
   "source": [
    "data_telecom.loc[data_telecom.duplicated()]"
   ]
  },
  {
   "cell_type": "code",
   "execution_count": 10,
   "metadata": {},
   "outputs": [
    {
     "name": "stdout",
     "output_type": "stream",
     "text": [
      "The amount of rows with duplicated data is  9.09%\n"
     ]
    }
   ],
   "source": [
    "print('The amount of rows with duplicated data is ', '{:.2%}'.format(data_telecom[data_telecom.duplicated()].shape[0]/data_telecom.shape[0]))"
   ]
  },
  {
   "cell_type": "markdown",
   "metadata": {},
   "source": [
    "Let's get rid of the duplicates and see in more detail what we can do with the missing data and what is the distribution of the missin data."
   ]
  },
  {
   "cell_type": "code",
   "execution_count": 11,
   "metadata": {},
   "outputs": [],
   "source": [
    "data_telecom_clean = data_telecom.drop_duplicates().reset_index(drop=True)"
   ]
  },
  {
   "cell_type": "code",
   "execution_count": 12,
   "metadata": {},
   "outputs": [
    {
     "name": "stderr",
     "output_type": "stream",
     "text": [
      "/opt/conda/lib/python3.7/site-packages/ipykernel_launcher.py:1: UserWarning: Boolean Series key will be reindexed to match DataFrame index.\n",
      "  \"\"\"Entry point for launching an IPython kernel.\n"
     ]
    },
    {
     "data": {
      "text/html": [
       "<div>\n",
       "<style scoped>\n",
       "    .dataframe tbody tr th:only-of-type {\n",
       "        vertical-align: middle;\n",
       "    }\n",
       "\n",
       "    .dataframe tbody tr th {\n",
       "        vertical-align: top;\n",
       "    }\n",
       "\n",
       "    .dataframe thead th {\n",
       "        text-align: right;\n",
       "    }\n",
       "</style>\n",
       "<table border=\"1\" class=\"dataframe\">\n",
       "  <thead>\n",
       "    <tr style=\"text-align: right;\">\n",
       "      <th></th>\n",
       "      <th>user_id</th>\n",
       "      <th>date</th>\n",
       "      <th>direction</th>\n",
       "      <th>internal</th>\n",
       "      <th>operator_id</th>\n",
       "      <th>is_missed_call</th>\n",
       "      <th>calls_count</th>\n",
       "      <th>call_duration</th>\n",
       "      <th>total_call_duration</th>\n",
       "    </tr>\n",
       "  </thead>\n",
       "  <tbody>\n",
       "    <tr>\n",
       "      <td>0</td>\n",
       "      <td>166377</td>\n",
       "      <td>2019-08-04 00:00:00+03:00</td>\n",
       "      <td>in</td>\n",
       "      <td>False</td>\n",
       "      <td>NaN</td>\n",
       "      <td>True</td>\n",
       "      <td>2</td>\n",
       "      <td>0</td>\n",
       "      <td>4</td>\n",
       "    </tr>\n",
       "    <tr>\n",
       "      <td>7</td>\n",
       "      <td>166377</td>\n",
       "      <td>2019-08-05 00:00:00+03:00</td>\n",
       "      <td>in</td>\n",
       "      <td>False</td>\n",
       "      <td>NaN</td>\n",
       "      <td>True</td>\n",
       "      <td>6</td>\n",
       "      <td>0</td>\n",
       "      <td>35</td>\n",
       "    </tr>\n",
       "    <tr>\n",
       "      <td>9</td>\n",
       "      <td>166377</td>\n",
       "      <td>2019-08-06 00:00:00+03:00</td>\n",
       "      <td>out</td>\n",
       "      <td>False</td>\n",
       "      <td>881278.0</td>\n",
       "      <td>True</td>\n",
       "      <td>3</td>\n",
       "      <td>0</td>\n",
       "      <td>29</td>\n",
       "    </tr>\n",
       "    <tr>\n",
       "      <td>17</td>\n",
       "      <td>166377</td>\n",
       "      <td>2019-08-07 00:00:00+03:00</td>\n",
       "      <td>out</td>\n",
       "      <td>False</td>\n",
       "      <td>880026.0</td>\n",
       "      <td>True</td>\n",
       "      <td>1</td>\n",
       "      <td>0</td>\n",
       "      <td>17</td>\n",
       "    </tr>\n",
       "    <tr>\n",
       "      <td>27</td>\n",
       "      <td>166377</td>\n",
       "      <td>2019-08-13 00:00:00+03:00</td>\n",
       "      <td>out</td>\n",
       "      <td>True</td>\n",
       "      <td>880026.0</td>\n",
       "      <td>True</td>\n",
       "      <td>2</td>\n",
       "      <td>0</td>\n",
       "      <td>23</td>\n",
       "    </tr>\n",
       "    <tr>\n",
       "      <td>...</td>\n",
       "      <td>...</td>\n",
       "      <td>...</td>\n",
       "      <td>...</td>\n",
       "      <td>...</td>\n",
       "      <td>...</td>\n",
       "      <td>...</td>\n",
       "      <td>...</td>\n",
       "      <td>...</td>\n",
       "      <td>...</td>\n",
       "    </tr>\n",
       "    <tr>\n",
       "      <td>48859</td>\n",
       "      <td>168579</td>\n",
       "      <td>2019-11-23 00:00:00+03:00</td>\n",
       "      <td>in</td>\n",
       "      <td>False</td>\n",
       "      <td>NaN</td>\n",
       "      <td>True</td>\n",
       "      <td>7</td>\n",
       "      <td>0</td>\n",
       "      <td>15</td>\n",
       "    </tr>\n",
       "    <tr>\n",
       "      <td>48864</td>\n",
       "      <td>168579</td>\n",
       "      <td>2019-11-26 00:00:00+03:00</td>\n",
       "      <td>in</td>\n",
       "      <td>False</td>\n",
       "      <td>NaN</td>\n",
       "      <td>True</td>\n",
       "      <td>4</td>\n",
       "      <td>0</td>\n",
       "      <td>10</td>\n",
       "    </tr>\n",
       "    <tr>\n",
       "      <td>48870</td>\n",
       "      <td>168583</td>\n",
       "      <td>2019-11-06 00:00:00+03:00</td>\n",
       "      <td>in</td>\n",
       "      <td>False</td>\n",
       "      <td>952126.0</td>\n",
       "      <td>False</td>\n",
       "      <td>1</td>\n",
       "      <td>52</td>\n",
       "      <td>75</td>\n",
       "    </tr>\n",
       "    <tr>\n",
       "      <td>48915</td>\n",
       "      <td>168601</td>\n",
       "      <td>2019-11-01 00:00:00+03:00</td>\n",
       "      <td>in</td>\n",
       "      <td>False</td>\n",
       "      <td>NaN</td>\n",
       "      <td>True</td>\n",
       "      <td>1</td>\n",
       "      <td>0</td>\n",
       "      <td>2</td>\n",
       "    </tr>\n",
       "    <tr>\n",
       "      <td>48983</td>\n",
       "      <td>168601</td>\n",
       "      <td>2019-11-28 00:00:00+03:00</td>\n",
       "      <td>out</td>\n",
       "      <td>False</td>\n",
       "      <td>952914.0</td>\n",
       "      <td>True</td>\n",
       "      <td>2</td>\n",
       "      <td>0</td>\n",
       "      <td>67</td>\n",
       "    </tr>\n",
       "  </tbody>\n",
       "</table>\n",
       "<p>7502 rows × 9 columns</p>\n",
       "</div>"
      ],
      "text/plain": [
       "       user_id                       date direction internal  operator_id  \\\n",
       "0       166377  2019-08-04 00:00:00+03:00        in    False          NaN   \n",
       "7       166377  2019-08-05 00:00:00+03:00        in    False          NaN   \n",
       "9       166377  2019-08-06 00:00:00+03:00       out    False     881278.0   \n",
       "17      166377  2019-08-07 00:00:00+03:00       out    False     880026.0   \n",
       "27      166377  2019-08-13 00:00:00+03:00       out     True     880026.0   \n",
       "...        ...                        ...       ...      ...          ...   \n",
       "48859   168579  2019-11-23 00:00:00+03:00        in    False          NaN   \n",
       "48864   168579  2019-11-26 00:00:00+03:00        in    False          NaN   \n",
       "48870   168583  2019-11-06 00:00:00+03:00        in    False     952126.0   \n",
       "48915   168601  2019-11-01 00:00:00+03:00        in    False          NaN   \n",
       "48983   168601  2019-11-28 00:00:00+03:00       out    False     952914.0   \n",
       "\n",
       "       is_missed_call  calls_count  call_duration  total_call_duration  \n",
       "0                True            2              0                    4  \n",
       "7                True            6              0                   35  \n",
       "9                True            3              0                   29  \n",
       "17               True            1              0                   17  \n",
       "27               True            2              0                   23  \n",
       "...               ...          ...            ...                  ...  \n",
       "48859            True            7              0                   15  \n",
       "48864            True            4              0                   10  \n",
       "48870           False            1             52                   75  \n",
       "48915            True            1              0                    2  \n",
       "48983            True            2              0                   67  \n",
       "\n",
       "[7502 rows x 9 columns]"
      ]
     },
     "execution_count": 12,
     "metadata": {},
     "output_type": "execute_result"
    }
   ],
   "source": [
    "data_telecom_clean[data_telecom.isna().any(axis=1)]"
   ]
  },
  {
   "cell_type": "code",
   "execution_count": 13,
   "metadata": {},
   "outputs": [
    {
     "name": "stdout",
     "output_type": "stream",
     "text": [
      "The amount of rows with null data is  15.33%\n"
     ]
    }
   ],
   "source": [
    "print('The amount of rows with null data is ', '{:.2%}'.format(data_telecom_clean[data_telecom_clean.isnull().any(axis=1)].shape[0]/data_telecom_clean.shape[0]))"
   ]
  },
  {
   "cell_type": "code",
   "execution_count": 14,
   "metadata": {},
   "outputs": [
    {
     "data": {
      "text/plain": [
       "user_id                   0\n",
       "date                      0\n",
       "direction                 0\n",
       "internal                110\n",
       "operator_id            7456\n",
       "is_missed_call            0\n",
       "calls_count               0\n",
       "call_duration             0\n",
       "total_call_duration       0\n",
       "dtype: int64"
      ]
     },
     "execution_count": 14,
     "metadata": {},
     "output_type": "execute_result"
    }
   ],
   "source": [
    "data_telecom_clean.isnull().reset_index(drop=True).sum()"
   ]
  },
  {
   "cell_type": "code",
   "execution_count": 15,
   "metadata": {},
   "outputs": [],
   "source": [
    "data_telecom_clean['waiting_duration'] = data_telecom_clean['total_call_duration'] - data_telecom_clean['call_duration']"
   ]
  },
  {
   "cell_type": "markdown",
   "metadata": {},
   "source": [
    "We see that the null values come from 2 sources - whether a call was internal/external and the operator_id. The main problem is that operator_id is a unique input that cannot be reconstructed on opeartor level, while fact whether a call was internal or external could be reconstructed based on the sample proportions. Therefore, I suggest to consider 2 subsets separately - one with observations where operator_id is missing and the second one with the rest. Next we need to identify the extent of the issue with missing data on external/internal data on each sub-sample - if the respective proportions of missing data are less than 10%, we will just drop those rows out of consideration. Otherwise, we will need to reconstruct the data using the proportions based on the rows having the external/internal features."
   ]
  },
  {
   "cell_type": "code",
   "execution_count": 16,
   "metadata": {},
   "outputs": [],
   "source": [
    "set_with_ids = data_telecom_clean.query('operator_id.notnull()').reset_index(drop=True)\n",
    "set_no_ids = data_telecom_clean.query('operator_id.isnull()').reset_index(drop=True)"
   ]
  },
  {
   "cell_type": "code",
   "execution_count": 17,
   "metadata": {},
   "outputs": [
    {
     "name": "stdout",
     "output_type": "stream",
     "text": [
      "The amount of rows with null data is  0.13%\n"
     ]
    }
   ],
   "source": [
    "print('The amount of rows with null data is ', '{:.2%}'.format(set_with_ids[set_with_ids['internal'].isnull()].shape[0]/set_with_ids.shape[0]))"
   ]
  },
  {
   "cell_type": "code",
   "execution_count": 18,
   "metadata": {},
   "outputs": [
    {
     "name": "stdout",
     "output_type": "stream",
     "text": [
      "The amount of rows with null data is  0.74%\n"
     ]
    }
   ],
   "source": [
    "print('The amount of rows with null data is ', '{:.2%}'.format(set_no_ids[set_no_ids['internal'].isnull()].shape[0]/set_no_ids.shape[0]))"
   ]
  },
  {
   "cell_type": "markdown",
   "metadata": {},
   "source": [
    "As we see from the above, we can drop the rows containing NaN values in external/internal feature in each of the subsets."
   ]
  },
  {
   "cell_type": "code",
   "execution_count": 19,
   "metadata": {},
   "outputs": [],
   "source": [
    "set_with_ids = set_with_ids.dropna(subset=['internal']).reset_index(drop=True)\n",
    "set_no_ids = set_no_ids.dropna(subset=['internal']).reset_index(drop=True)"
   ]
  },
  {
   "cell_type": "markdown",
   "metadata": {},
   "source": [
    "Once the subsets are cleared from duplicates and null values (I suggest to treat the zero values in the durations' features as valid data). Now, it is turn to optimize the data in terms of appropriate data types:"
   ]
  },
  {
   "cell_type": "code",
   "execution_count": 20,
   "metadata": {
    "scrolled": true
   },
   "outputs": [
    {
     "name": "stdout",
     "output_type": "stream",
     "text": [
      "<class 'pandas.core.frame.DataFrame'>\n",
      "RangeIndex: 41491 entries, 0 to 41490\n",
      "Data columns (total 10 columns):\n",
      "user_id                41491 non-null int64\n",
      "date                   41491 non-null object\n",
      "direction              41491 non-null object\n",
      "internal               41491 non-null object\n",
      "operator_id            41491 non-null float64\n",
      "is_missed_call         41491 non-null bool\n",
      "calls_count            41491 non-null int64\n",
      "call_duration          41491 non-null int64\n",
      "total_call_duration    41491 non-null int64\n",
      "waiting_duration       41491 non-null int64\n",
      "dtypes: bool(1), float64(1), int64(5), object(3)\n",
      "memory usage: 2.9+ MB\n"
     ]
    }
   ],
   "source": [
    "set_with_ids.info()"
   ]
  },
  {
   "cell_type": "code",
   "execution_count": 21,
   "metadata": {},
   "outputs": [],
   "source": [
    "set_with_ids['date'] = pd.to_datetime(set_with_ids['date'])\n",
    "set_with_ids['direction'] = set_with_ids['direction'].astype('category')\n",
    "set_with_ids['internal'] = set_with_ids['internal'].astype('bool')\n",
    "set_with_ids['operator_id'] = set_with_ids['operator_id'].astype('int64')\n",
    "set_with_ids['is_missed_call'] = set_with_ids['is_missed_call'].astype('bool')\n",
    "set_with_ids['calls_count'] = set_with_ids['calls_count'].astype('int32')\n",
    "set_with_ids = pd.get_dummies(set_with_ids)"
   ]
  },
  {
   "cell_type": "code",
   "execution_count": 22,
   "metadata": {},
   "outputs": [],
   "source": [
    "set_no_ids['date'] = pd.to_datetime(set_no_ids['date'])\n",
    "set_no_ids['direction'] = set_no_ids['direction'].astype('category')\n",
    "set_no_ids['internal'] = set_no_ids['internal'].astype('bool')\n",
    "set_no_ids['is_missed_call'] = set_no_ids['is_missed_call'].astype('bool')\n",
    "set_no_ids['calls_count'] = set_no_ids['calls_count'].astype('int32')\n",
    "set_no_ids = pd.get_dummies(set_no_ids)"
   ]
  },
  {
   "cell_type": "code",
   "execution_count": 23,
   "metadata": {},
   "outputs": [],
   "source": [
    "#let's drop the operator_id\n",
    "set_no_ids.drop(['operator_id'], axis=1, inplace=True)"
   ]
  },
  {
   "cell_type": "markdown",
   "metadata": {},
   "source": [
    "Let's confirm the data integrity and completeness for the clients data base:"
   ]
  },
  {
   "cell_type": "code",
   "execution_count": 24,
   "metadata": {},
   "outputs": [
    {
     "data": {
      "text/html": [
       "<div>\n",
       "<style scoped>\n",
       "    .dataframe tbody tr th:only-of-type {\n",
       "        vertical-align: middle;\n",
       "    }\n",
       "\n",
       "    .dataframe tbody tr th {\n",
       "        vertical-align: top;\n",
       "    }\n",
       "\n",
       "    .dataframe thead th {\n",
       "        text-align: right;\n",
       "    }\n",
       "</style>\n",
       "<table border=\"1\" class=\"dataframe\">\n",
       "  <thead>\n",
       "    <tr style=\"text-align: right;\">\n",
       "      <th></th>\n",
       "      <th>user_id</th>\n",
       "      <th>tariff_plan</th>\n",
       "      <th>date_start</th>\n",
       "    </tr>\n",
       "  </thead>\n",
       "  <tbody>\n",
       "  </tbody>\n",
       "</table>\n",
       "</div>"
      ],
      "text/plain": [
       "Empty DataFrame\n",
       "Columns: [user_id, tariff_plan, date_start]\n",
       "Index: []"
      ]
     },
     "execution_count": 24,
     "metadata": {},
     "output_type": "execute_result"
    }
   ],
   "source": [
    "data_clients[data_clients.isna().any(axis=1)]"
   ]
  },
  {
   "cell_type": "code",
   "execution_count": 25,
   "metadata": {},
   "outputs": [
    {
     "data": {
      "text/html": [
       "<div>\n",
       "<style scoped>\n",
       "    .dataframe tbody tr th:only-of-type {\n",
       "        vertical-align: middle;\n",
       "    }\n",
       "\n",
       "    .dataframe tbody tr th {\n",
       "        vertical-align: top;\n",
       "    }\n",
       "\n",
       "    .dataframe thead th {\n",
       "        text-align: right;\n",
       "    }\n",
       "</style>\n",
       "<table border=\"1\" class=\"dataframe\">\n",
       "  <thead>\n",
       "    <tr style=\"text-align: right;\">\n",
       "      <th></th>\n",
       "      <th>user_id</th>\n",
       "      <th>tariff_plan</th>\n",
       "      <th>date_start</th>\n",
       "    </tr>\n",
       "  </thead>\n",
       "  <tbody>\n",
       "  </tbody>\n",
       "</table>\n",
       "</div>"
      ],
      "text/plain": [
       "Empty DataFrame\n",
       "Columns: [user_id, tariff_plan, date_start]\n",
       "Index: []"
      ]
     },
     "execution_count": 25,
     "metadata": {},
     "output_type": "execute_result"
    }
   ],
   "source": [
    "data_clients.loc[data_clients.duplicated()]"
   ]
  },
  {
   "cell_type": "markdown",
   "metadata": {},
   "source": [
    "Clients information data set seem not to have any issues."
   ]
  },
  {
   "cell_type": "markdown",
   "metadata": {},
   "source": [
    "# Conclusion\n",
    "The calls log data set was cleaned from duplicates, optimized for memory usage through conversion of features into appropriate types and enriched for dummy variables based on categorical variables for further processing. The clients data set did not contain any duplicates, NaN or other issues."
   ]
  },
  {
   "cell_type": "markdown",
   "metadata": {},
   "source": [
    "# Step 3 - Identifying efficient algorithm"
   ]
  },
  {
   "cell_type": "markdown",
   "metadata": {},
   "source": [
    "An operator is considered ineffective if they have 1) a large number of missed incoming calls (internal and external) and 2) a long waiting time for incoming calls, 3) if an operator is supposed to make outgoing calls, a small number of them is also a sign of ineffectiveness. Let's assume that operators that were not supposed to do outgoing calls did not do it, and those that actually called were supposed to do it. To be able to classify operators as efficient and inefficient I suggest to have some composite measure representing an operator's performance which will become the target variable for the classification problem."
   ]
  },
  {
   "cell_type": "code",
   "execution_count": 26,
   "metadata": {},
   "outputs": [
    {
     "name": "stdout",
     "output_type": "stream",
     "text": [
      "<class 'pandas.core.frame.DataFrame'>\n",
      "RangeIndex: 41491 entries, 0 to 41490\n",
      "Data columns (total 11 columns):\n",
      "user_id                41491 non-null int64\n",
      "date                   41491 non-null datetime64[ns, pytz.FixedOffset(180)]\n",
      "internal               41491 non-null bool\n",
      "operator_id            41491 non-null int64\n",
      "is_missed_call         41491 non-null bool\n",
      "calls_count            41491 non-null int32\n",
      "call_duration          41491 non-null int64\n",
      "total_call_duration    41491 non-null int64\n",
      "waiting_duration       41491 non-null int64\n",
      "direction_in           41491 non-null uint8\n",
      "direction_out          41491 non-null uint8\n",
      "dtypes: bool(2), datetime64[ns, pytz.FixedOffset(180)](1), int32(1), int64(5), uint8(2)\n",
      "memory usage: 2.2 MB\n"
     ]
    }
   ],
   "source": [
    "set_with_ids.info()"
   ]
  },
  {
   "cell_type": "code",
   "execution_count": 27,
   "metadata": {},
   "outputs": [
    {
     "name": "stdout",
     "output_type": "stream",
     "text": [
      "<class 'pandas.core.frame.DataFrame'>\n",
      "RangeIndex: 41491 entries, 0 to 41490\n",
      "Data columns (total 14 columns):\n",
      "user_id                      41491 non-null int64\n",
      "date                         41491 non-null datetime64[ns, pytz.FixedOffset(180)]\n",
      "internal                     41491 non-null bool\n",
      "operator_id                  41491 non-null int64\n",
      "is_missed_call               41491 non-null bool\n",
      "calls_count                  41491 non-null int32\n",
      "call_duration                41491 non-null int64\n",
      "total_call_duration          41491 non-null int64\n",
      "waiting_duration             41491 non-null int64\n",
      "direction_in                 41491 non-null uint8\n",
      "direction_out                41491 non-null uint8\n",
      "waiting_duration_incoming    41491 non-null int64\n",
      "call_duration_outcoming      41491 non-null int64\n",
      "is_missed_call_incoming      41491 non-null uint8\n",
      "dtypes: bool(2), datetime64[ns, pytz.FixedOffset(180)](1), int32(1), int64(7), uint8(3)\n",
      "memory usage: 2.9 MB\n"
     ]
    }
   ],
   "source": [
    "set_with_ids['waiting_duration_incoming'] = set_with_ids['waiting_duration']*set_with_ids['direction_in']\n",
    "set_with_ids['call_duration_outcoming'] = set_with_ids['call_duration']*set_with_ids['direction_out']\n",
    "set_with_ids['is_missed_call_incoming'] = set_with_ids['is_missed_call']*set_with_ids['direction_in']\n",
    "set_with_ids.info()"
   ]
  },
  {
   "cell_type": "code",
   "execution_count": 28,
   "metadata": {},
   "outputs": [],
   "source": [
    "classification_set_with_ids = set_with_ids.groupby('operator_id').agg({'call_duration_outcoming':'sum',\n",
    "                                         'is_missed_call_incoming':'sum', \n",
    "                                         'waiting_duration_incoming':'sum'}).reset_index()"
   ]
  },
  {
   "cell_type": "code",
   "execution_count": 29,
   "metadata": {},
   "outputs": [
    {
     "data": {
      "text/plain": [
       "<seaborn.axisgrid.PairGrid at 0x7fd18397c710>"
      ]
     },
     "execution_count": 29,
     "metadata": {},
     "output_type": "execute_result"
    },
    {
     "data": {
      "image/png": "[encoded data removed]",
      "text/plain": [
       "<Figure size 540x540 with 12 Axes>"
      ]
     },
     "metadata": {
      "needs_background": "light"
     },
     "output_type": "display_data"
    }
   ],
   "source": [
    "sns.pairplot(classification_set_with_ids.drop(['operator_id'], axis=1))"
   ]
  },
  {
   "cell_type": "code",
   "execution_count": 30,
   "metadata": {},
   "outputs": [],
   "source": [
    "classification_set_with_ids['call_duration_outcoming'] = classification_set_with_ids['call_duration_outcoming']/3600\n",
    "classification_set_with_ids['waiting_duration_incoming'] = classification_set_with_ids['waiting_duration_incoming']/3600"
   ]
  },
  {
   "cell_type": "code",
   "execution_count": 31,
   "metadata": {},
   "outputs": [
    {
     "data": {
      "text/html": [
       "<div>\n",
       "<style scoped>\n",
       "    .dataframe tbody tr th:only-of-type {\n",
       "        vertical-align: middle;\n",
       "    }\n",
       "\n",
       "    .dataframe tbody tr th {\n",
       "        vertical-align: top;\n",
       "    }\n",
       "\n",
       "    .dataframe thead th {\n",
       "        text-align: right;\n",
       "    }\n",
       "</style>\n",
       "<table border=\"1\" class=\"dataframe\">\n",
       "  <thead>\n",
       "    <tr style=\"text-align: right;\">\n",
       "      <th></th>\n",
       "      <th>operator_id</th>\n",
       "      <th>call_duration_outcoming</th>\n",
       "      <th>is_missed_call_incoming</th>\n",
       "      <th>waiting_duration_incoming</th>\n",
       "      <th>rating</th>\n",
       "    </tr>\n",
       "  </thead>\n",
       "  <tbody>\n",
       "    <tr>\n",
       "      <td>count</td>\n",
       "      <td>1092.000000</td>\n",
       "      <td>1092.000000</td>\n",
       "      <td>1092.000000</td>\n",
       "      <td>1092.000000</td>\n",
       "      <td>1092.000000</td>\n",
       "    </tr>\n",
       "    <tr>\n",
       "      <td>mean</td>\n",
       "      <td>925517.543956</td>\n",
       "      <td>8.248845</td>\n",
       "      <td>0.626374</td>\n",
       "      <td>0.313466</td>\n",
       "      <td>-2.436335</td>\n",
       "    </tr>\n",
       "    <tr>\n",
       "      <td>std</td>\n",
       "      <td>22854.532209</td>\n",
       "      <td>47.356227</td>\n",
       "      <td>2.041180</td>\n",
       "      <td>1.089645</td>\n",
       "      <td>15.501855</td>\n",
       "    </tr>\n",
       "    <tr>\n",
       "      <td>min</td>\n",
       "      <td>879896.000000</td>\n",
       "      <td>0.000000</td>\n",
       "      <td>0.000000</td>\n",
       "      <td>0.000000</td>\n",
       "      <td>-392.084630</td>\n",
       "    </tr>\n",
       "    <tr>\n",
       "      <td>25%</td>\n",
       "      <td>906393.500000</td>\n",
       "      <td>0.000000</td>\n",
       "      <td>0.000000</td>\n",
       "      <td>0.000000</td>\n",
       "      <td>-1.608611</td>\n",
       "    </tr>\n",
       "    <tr>\n",
       "      <td>50%</td>\n",
       "      <td>925105.000000</td>\n",
       "      <td>0.541250</td>\n",
       "      <td>0.000000</td>\n",
       "      <td>0.019583</td>\n",
       "      <td>-0.084861</td>\n",
       "    </tr>\n",
       "    <tr>\n",
       "      <td>75%</td>\n",
       "      <td>944211.500000</td>\n",
       "      <td>5.960694</td>\n",
       "      <td>0.000000</td>\n",
       "      <td>0.159722</td>\n",
       "      <td>0.004074</td>\n",
       "    </tr>\n",
       "    <tr>\n",
       "      <td>max</td>\n",
       "      <td>973286.000000</td>\n",
       "      <td>1195.758611</td>\n",
       "      <td>28.000000</td>\n",
       "      <td>14.665278</td>\n",
       "      <td>10.952315</td>\n",
       "    </tr>\n",
       "  </tbody>\n",
       "</table>\n",
       "</div>"
      ],
      "text/plain": [
       "         operator_id  call_duration_outcoming  is_missed_call_incoming  \\\n",
       "count    1092.000000              1092.000000              1092.000000   \n",
       "mean   925517.543956                 8.248845                 0.626374   \n",
       "std     22854.532209                47.356227                 2.041180   \n",
       "min    879896.000000                 0.000000                 0.000000   \n",
       "25%    906393.500000                 0.000000                 0.000000   \n",
       "50%    925105.000000                 0.541250                 0.000000   \n",
       "75%    944211.500000                 5.960694                 0.000000   \n",
       "max    973286.000000              1195.758611                28.000000   \n",
       "\n",
       "       waiting_duration_incoming       rating  \n",
       "count                1092.000000  1092.000000  \n",
       "mean                    0.313466    -2.436335  \n",
       "std                     1.089645    15.501855  \n",
       "min                     0.000000  -392.084630  \n",
       "25%                     0.000000    -1.608611  \n",
       "50%                     0.019583    -0.084861  \n",
       "75%                     0.159722     0.004074  \n",
       "max                    14.665278    10.952315  "
      ]
     },
     "execution_count": 31,
     "metadata": {},
     "output_type": "execute_result"
    }
   ],
   "source": [
    "classification_set_with_ids['rating'] = (classification_set_with_ids['is_missed_call_incoming'] - classification_set_with_ids['call_duration_outcoming'] + classification_set_with_ids['waiting_duration_incoming'])/3\n",
    "classification_set_with_ids.describe()"
   ]
  },
  {
   "cell_type": "code",
   "execution_count": 32,
   "metadata": {
    "scrolled": true
   },
   "outputs": [
    {
     "data": {
      "text/plain": [
       "<matplotlib.axes._subplots.AxesSubplot at 0x7fd180949110>"
      ]
     },
     "execution_count": 32,
     "metadata": {},
     "output_type": "execute_result"
    },
    {
     "data": {
      "image/png": "[encoded data removed]",
      "text/plain": [
       "<Figure size 432x288 with 1 Axes>"
      ]
     },
     "metadata": {
      "needs_background": "light"
     },
     "output_type": "display_data"
    }
   ],
   "source": [
    "classification_set_with_ids['rating'].plot(kind='kde')"
   ]
  },
  {
   "cell_type": "code",
   "execution_count": 33,
   "metadata": {},
   "outputs": [
    {
     "data": {
      "text/plain": [
       "0.04836574074074074"
      ]
     },
     "execution_count": 33,
     "metadata": {},
     "output_type": "execute_result"
    }
   ],
   "source": [
    "#let's identify the top 15% threshold of the observations by rating that we will consider further as inefficient operators\n",
    "classification_set_with_ids.sort_values(by='rating', ascending=False)['rating'].quantile(q=0.85)"
   ]
  },
  {
   "cell_type": "markdown",
   "metadata": {},
   "source": [
    "Based on the above, we can say that truely outlying observations in terms of rating (the higher the less efficient an operator is) are the ones with rating above 0.05. Therefore, I suggest to filter out all operators above the above threshold."
   ]
  },
  {
   "cell_type": "code",
   "execution_count": 34,
   "metadata": {},
   "outputs": [],
   "source": [
    "#let's encode inefficient operators (1) and efficient operators (0)\n",
    "classification_set_with_ids['efficient_status'] = np.where(classification_set_with_ids['rating']>=0.05, 1,0)"
   ]
  },
  {
   "cell_type": "code",
   "execution_count": 35,
   "metadata": {},
   "outputs": [
    {
     "data": {
      "text/plain": [
       "0    930\n",
       "1    162\n",
       "Name: efficient_status, dtype: int64"
      ]
     },
     "execution_count": 35,
     "metadata": {},
     "output_type": "execute_result"
    }
   ],
   "source": [
    "classification_set_with_ids.efficient_status.value_counts()"
   ]
  },
  {
   "attachments": {
    "image.png": {
     "image/png": "[encoded data removed]"
    }
   },
   "cell_type": "markdown",
   "metadata": {},
   "source": [
    "Here for example![image.png](attachment:image.png)"
   ]
  },
  {
   "cell_type": "code",
   "execution_count": 36,
   "metadata": {},
   "outputs": [
    {
     "data": {
      "text/plain": [
       "<matplotlib.axes._subplots.AxesSubplot at 0x7fd18091a410>"
      ]
     },
     "execution_count": 36,
     "metadata": {},
     "output_type": "execute_result"
    },
    {
     "data": {
      "image/png": "[encoded data removed]",
      "text/plain": [
       "<Figure size 800x800 with 2 Axes>"
      ]
     },
     "metadata": {
      "needs_background": "light"
     },
     "output_type": "display_data"
    }
   ],
   "source": [
    "#let's plot a heatmap of the correlation matrix\n",
    "plt.figure(figsize=(10,10), dpi=80)\n",
    "sns.heatmap(classification_set_with_ids.drop('operator_id',axis=1).corr(), annot=True)"
   ]
  },
  {
   "cell_type": "code",
   "execution_count": 37,
   "metadata": {},
   "outputs": [],
   "source": [
    "# dividing the original set into target variable and features matrix - operator_id and rating are dropped for further processing \n",
    "X = classification_set_with_ids.drop(['efficient_status', 'operator_id','rating'], axis=1)\n",
    "y = classification_set_with_ids['efficient_status']\n",
    "X_train, X_test, y_train, y_test = train_test_split(X, y, test_size=0.2, random_state=0, stratify=y)"
   ]
  },
  {
   "cell_type": "code",
   "execution_count": 38,
   "metadata": {},
   "outputs": [],
   "source": [
    "# let's define the helper function that will output our metrics\n",
    "def print_all_metrics(y_true, y_pred, y_proba, title = 'Classification metrics'):\n",
    "    print(title)\n",
    "    print('\\tAccuracy: {:.2f}'.format(accuracy_score(y_true, y_pred)))\n",
    "    print('\\tPrecision: {:.2f}'.format(precision_score(y_true, y_pred)))\n",
    "    print('\\tRecall: {:.2f}'.format(recall_score(y_true, y_pred)))"
   ]
  },
  {
   "cell_type": "code",
   "execution_count": 39,
   "metadata": {},
   "outputs": [
    {
     "name": "stdout",
     "output_type": "stream",
     "text": [
      "Classification report:\n",
      "               precision    recall  f1-score   support\n",
      "\n",
      "           0       0.96      1.00      0.98       187\n",
      "           1       1.00      0.78      0.88        32\n",
      "\n",
      "    accuracy                           0.97       219\n",
      "   macro avg       0.98      0.89      0.93       219\n",
      "weighted avg       0.97      0.97      0.97       219\n",
      "\n",
      "Confusion matrix:\n",
      " [[187   0]\n",
      " [  7  25]]\n"
     ]
    }
   ],
   "source": [
    "model = LogisticRegression(solver='liblinear')\n",
    "model.fit(X_train, y_train)\n",
    "y_predicted = model.predict(X_test)\n",
    "print('Classification report:\\n', classification_report(y_test, y_predicted))\n",
    "conf_mat = confusion_matrix(y_true=y_test, y_pred=y_predicted, labels=[0, 1])\n",
    "print('Confusion matrix:\\n', conf_mat)"
   ]
  },
  {
   "cell_type": "code",
   "execution_count": 40,
   "metadata": {},
   "outputs": [],
   "source": [
    "#let's scale the data\n",
    "scaler = StandardScaler()\n",
    "X_train_st = scaler.fit_transform(X_train) # train the scaler and transform the matrix for the train set\n",
    "\n",
    "# apply standardization to the feature matrix for the test set\n",
    "X_test_st = scaler.transform(X_test)"
   ]
  },
  {
   "cell_type": "code",
   "execution_count": 41,
   "metadata": {},
   "outputs": [
    {
     "name": "stdout",
     "output_type": "stream",
     "text": [
      "Classification report:\n",
      "               precision    recall  f1-score   support\n",
      "\n",
      "           0       0.88      0.99      0.93       187\n",
      "           1       0.88      0.22      0.35        32\n",
      "\n",
      "    accuracy                           0.88       219\n",
      "   macro avg       0.88      0.61      0.64       219\n",
      "weighted avg       0.88      0.88      0.85       219\n",
      "\n",
      "Confusion matrix:\n",
      " [[186   1]\n",
      " [ 25   7]]\n"
     ]
    }
   ],
   "source": [
    "model = LogisticRegression(solver='liblinear')\n",
    "model.fit(X_train_st, y_train)\n",
    "y_predicted = model.predict(X_test_st)\n",
    "print('Classification report:\\n', classification_report(y_test, y_predicted))\n",
    "conf_mat = confusion_matrix(y_true=y_test, y_pred=y_predicted, labels=[0, 1])\n",
    "print('Confusion matrix:\\n', conf_mat)"
   ]
  },
  {
   "cell_type": "code",
   "execution_count": 42,
   "metadata": {},
   "outputs": [
    {
     "name": "stdout",
     "output_type": "stream",
     "text": [
      "Metrics for random forest:\n",
      "\tAccuracy: 0.99\n",
      "\tPrecision: 0.97\n",
      "\tRecall: 0.97\n"
     ]
    }
   ],
   "source": [
    "# let's define the algorithm for the new random forest model\n",
    "rf_model =  RandomForestClassifier(n_estimators = 7, random_state=0)\n",
    "# and train the random forest model\n",
    "rf_model.fit(X_train_st, y_train)\n",
    "# and use the trained model to make predictions\n",
    "rf_predictions = rf_model.predict(X_test_st)# write your code here\n",
    "rf_probabilities = rf_model.predict_proba(X_test_st)[:,1]# write your code here\n",
    "# printing all metrics\n",
    "print_all_metrics(y_test, rf_predictions, rf_probabilities, title = 'Metrics for random forest:')"
   ]
  },
  {
   "cell_type": "markdown",
   "metadata": {},
   "source": [
    "# Conclusion"
   ]
  },
  {
   "cell_type": "markdown",
   "metadata": {},
   "source": [
    "We see from the above, that the logistic model yields good results for train data before being scaled, but drops in efficiency once scaling is applied. Finally, Random forest generator shows the best results for the classification of operators into efficient/not efficient based on the prescribed criteria."
   ]
  },
  {
   "cell_type": "markdown",
   "metadata": {},
   "source": [
    "# Step 4-5. Formulating and Testing Hypotheses."
   ]
  },
  {
   "cell_type": "markdown",
   "metadata": {},
   "source": [
    "Let's test first whether the number of calls in each of tariff group is distributed in the same shape using Wilconxon-Mann-Whitney Nonparametric Test. For that we will join the two tables in such a way that each entry can be identified by tariff and then set could be separated by it into sub-samples."
   ]
  },
  {
   "cell_type": "code",
   "execution_count": 43,
   "metadata": {},
   "outputs": [],
   "source": [
    "#we can drop here the operator_id, because we do not need to aggregate the entries\n",
    "df_combined = data_telecom_clean.drop('operator_id', axis=1).merge(data_clients, how ='left', on='user_id')"
   ]
  },
  {
   "cell_type": "code",
   "execution_count": 44,
   "metadata": {},
   "outputs": [
    {
     "data": {
      "text/html": [
       "<div>\n",
       "<style scoped>\n",
       "    .dataframe tbody tr th:only-of-type {\n",
       "        vertical-align: middle;\n",
       "    }\n",
       "\n",
       "    .dataframe tbody tr th {\n",
       "        vertical-align: top;\n",
       "    }\n",
       "\n",
       "    .dataframe thead th {\n",
       "        text-align: right;\n",
       "    }\n",
       "</style>\n",
       "<table border=\"1\" class=\"dataframe\">\n",
       "  <thead>\n",
       "    <tr style=\"text-align: right;\">\n",
       "      <th></th>\n",
       "      <th>user_id</th>\n",
       "      <th>date</th>\n",
       "      <th>direction</th>\n",
       "      <th>internal</th>\n",
       "      <th>is_missed_call</th>\n",
       "      <th>calls_count</th>\n",
       "      <th>call_duration</th>\n",
       "      <th>total_call_duration</th>\n",
       "      <th>waiting_duration</th>\n",
       "      <th>tariff_plan</th>\n",
       "      <th>date_start</th>\n",
       "    </tr>\n",
       "  </thead>\n",
       "  <tbody>\n",
       "    <tr>\n",
       "      <td>0</td>\n",
       "      <td>166377</td>\n",
       "      <td>2019-08-04 00:00:00+03:00</td>\n",
       "      <td>in</td>\n",
       "      <td>False</td>\n",
       "      <td>True</td>\n",
       "      <td>2</td>\n",
       "      <td>0</td>\n",
       "      <td>4</td>\n",
       "      <td>4</td>\n",
       "      <td>B</td>\n",
       "      <td>2019-08-01</td>\n",
       "    </tr>\n",
       "    <tr>\n",
       "      <td>1</td>\n",
       "      <td>166377</td>\n",
       "      <td>2019-08-05 00:00:00+03:00</td>\n",
       "      <td>out</td>\n",
       "      <td>True</td>\n",
       "      <td>True</td>\n",
       "      <td>3</td>\n",
       "      <td>0</td>\n",
       "      <td>5</td>\n",
       "      <td>5</td>\n",
       "      <td>B</td>\n",
       "      <td>2019-08-01</td>\n",
       "    </tr>\n",
       "    <tr>\n",
       "      <td>2</td>\n",
       "      <td>166377</td>\n",
       "      <td>2019-08-05 00:00:00+03:00</td>\n",
       "      <td>out</td>\n",
       "      <td>True</td>\n",
       "      <td>True</td>\n",
       "      <td>1</td>\n",
       "      <td>0</td>\n",
       "      <td>1</td>\n",
       "      <td>1</td>\n",
       "      <td>B</td>\n",
       "      <td>2019-08-01</td>\n",
       "    </tr>\n",
       "    <tr>\n",
       "      <td>3</td>\n",
       "      <td>166377</td>\n",
       "      <td>2019-08-05 00:00:00+03:00</td>\n",
       "      <td>out</td>\n",
       "      <td>True</td>\n",
       "      <td>False</td>\n",
       "      <td>1</td>\n",
       "      <td>10</td>\n",
       "      <td>18</td>\n",
       "      <td>8</td>\n",
       "      <td>B</td>\n",
       "      <td>2019-08-01</td>\n",
       "    </tr>\n",
       "    <tr>\n",
       "      <td>4</td>\n",
       "      <td>166377</td>\n",
       "      <td>2019-08-05 00:00:00+03:00</td>\n",
       "      <td>out</td>\n",
       "      <td>False</td>\n",
       "      <td>True</td>\n",
       "      <td>3</td>\n",
       "      <td>0</td>\n",
       "      <td>25</td>\n",
       "      <td>25</td>\n",
       "      <td>B</td>\n",
       "      <td>2019-08-01</td>\n",
       "    </tr>\n",
       "  </tbody>\n",
       "</table>\n",
       "</div>"
      ],
      "text/plain": [
       "   user_id                       date direction internal  is_missed_call  \\\n",
       "0   166377  2019-08-04 00:00:00+03:00        in    False            True   \n",
       "1   166377  2019-08-05 00:00:00+03:00       out     True            True   \n",
       "2   166377  2019-08-05 00:00:00+03:00       out     True            True   \n",
       "3   166377  2019-08-05 00:00:00+03:00       out     True           False   \n",
       "4   166377  2019-08-05 00:00:00+03:00       out    False            True   \n",
       "\n",
       "   calls_count  call_duration  total_call_duration  waiting_duration  \\\n",
       "0            2              0                    4                 4   \n",
       "1            3              0                    5                 5   \n",
       "2            1              0                    1                 1   \n",
       "3            1             10                   18                 8   \n",
       "4            3              0                   25                25   \n",
       "\n",
       "  tariff_plan  date_start  \n",
       "0           B  2019-08-01  \n",
       "1           B  2019-08-01  \n",
       "2           B  2019-08-01  \n",
       "3           B  2019-08-01  \n",
       "4           B  2019-08-01  "
      ]
     },
     "execution_count": 44,
     "metadata": {},
     "output_type": "execute_result"
    }
   ],
   "source": [
    "df_combined.head()"
   ]
  },
  {
   "cell_type": "code",
   "execution_count": 45,
   "metadata": {},
   "outputs": [],
   "source": [
    "#let's divide the data set into samples based on tariff\n",
    "sample_a = df_combined.query('tariff_plan==\"A\"').reset_index(drop=True)\n",
    "sample_b = df_combined.query('tariff_plan==\"B\"').reset_index(drop=True)\n",
    "sample_c = df_combined.query('tariff_plan==\"C\"').reset_index(drop=True)"
   ]
  },
  {
   "cell_type": "markdown",
   "metadata": {},
   "source": [
    "Now, we can run the tests for each of the feature from each pair of samples in loop and see whether we can see immediate statitstical difference between the user calling patterns depending on his/her tariff. If user groups by tariff differ in calling patterns we cannot associate the potential impact on the operator classification criteria and the final efficiency rank of a specific operator because he had served user(s) from tariff with adverse calling patters. Otherwise, if we spot a feature for which we cannot claim difference in distribution we will run t-test for sample means or sample proportion equality to see how big is the difference and hence how big could be potential impact. In short - if user calling patterns are not similar and each operator has chances for similar exposure to all groups of users, then the impact on the criteria is similar for all of the operators and only their personal performance capability will matter. "
   ]
  },
  {
   "cell_type": "code",
   "execution_count": 46,
   "metadata": {},
   "outputs": [
    {
     "name": "stdout",
     "output_type": "stream",
     "text": [
      "p-value:  1.9992778046916053e-144\n",
      "Null hypothesis rejected: the difference is statistically significant for feature calls_count\n",
      "p-value:  5.514671430661601e-21\n",
      "Null hypothesis rejected: the difference is statistically significant for feature call_duration\n",
      "p-value:  5.69285260033788e-108\n",
      "Null hypothesis rejected: the difference is statistically significant for feature total_call_duration\n",
      "p-value:  3.84780792834177e-117\n",
      "Null hypothesis rejected: the difference is statistically significant for feature waiting_duration\n"
     ]
    }
   ],
   "source": [
    "alpha = .05 #significance level\n",
    "for i in ['calls_count', 'call_duration', 'total_call_duration', 'waiting_duration']:\n",
    "    results = st.mannwhitneyu(sample_a[i], sample_b[i])\n",
    "    print('p-value: ', results.pvalue)\n",
    "    if (results.pvalue < alpha):\n",
    "        print(\"Null hypothesis rejected: the difference is statistically significant for feature\", i)\n",
    "    else:\n",
    "        print(\"Failed to reject the null hypothesis: we can't make conclusions about the difference for feature\", i) "
   ]
  },
  {
   "cell_type": "markdown",
   "metadata": {},
   "source": [
    "With this test we are checking that for randomly selected values X and Y from two populations, the probability of X being greater than Y is equal to the probability of Y being greater than X."
   ]
  },
  {
   "cell_type": "markdown",
   "metadata": {},
   "source": [
    "We can make conclusion that there is difference between distributions for samples from tariff A and B in each of the features."
   ]
  },
  {
   "cell_type": "code",
   "execution_count": 47,
   "metadata": {},
   "outputs": [
    {
     "name": "stdout",
     "output_type": "stream",
     "text": [
      "p-value:  3.3611594040431287e-149\n",
      "Null hypothesis rejected: the difference is statistically significant for feature calls_count\n",
      "p-value:  5.089726233733631e-33\n",
      "Null hypothesis rejected: the difference is statistically significant for feature call_duration\n",
      "p-value:  2.2086268389542628e-162\n",
      "Null hypothesis rejected: the difference is statistically significant for feature total_call_duration\n",
      "p-value:  4.1934491051105415e-148\n",
      "Null hypothesis rejected: the difference is statistically significant for feature waiting_duration\n"
     ]
    }
   ],
   "source": [
    "alpha = .05 #significance level\n",
    "for i in ['calls_count', 'call_duration', 'total_call_duration', 'waiting_duration']:\n",
    "    results = st.mannwhitneyu(sample_a[i], sample_c[i])\n",
    "    print('p-value: ', results.pvalue)\n",
    "    if (results.pvalue < alpha):\n",
    "        print(\"Null hypothesis rejected: the difference is statistically significant for feature\", i)\n",
    "    else:\n",
    "        print(\"Failed to reject the null hypothesis: we can't make conclusions about the difference for feature\", i) "
   ]
  },
  {
   "cell_type": "markdown",
   "metadata": {},
   "source": [
    "We can make conclusion that there is difference between distributions for samples from tariff A and C in each of the feature distributions."
   ]
  },
  {
   "cell_type": "code",
   "execution_count": 48,
   "metadata": {},
   "outputs": [
    {
     "name": "stdout",
     "output_type": "stream",
     "text": [
      "p-value:  0.38927116783795307\n",
      "Failed to reject the null hypothesis: we can't make conclusions about the difference for feature calls_count\n",
      "p-value:  0.0033571737288529083\n",
      "Null hypothesis rejected: the difference is statistically significant for feature call_duration\n",
      "p-value:  5.942864116088894e-09\n",
      "Null hypothesis rejected: the difference is statistically significant for feature total_call_duration\n",
      "p-value:  0.0003696337907546386\n",
      "Null hypothesis rejected: the difference is statistically significant for feature waiting_duration\n"
     ]
    }
   ],
   "source": [
    "alpha = .05 #significance level\n",
    "for i in ['calls_count', 'call_duration', 'total_call_duration', 'waiting_duration']:\n",
    "    results = st.mannwhitneyu(sample_b[i], sample_c[i])\n",
    "    print('p-value: ', results.pvalue)\n",
    "    if (results.pvalue < alpha):\n",
    "        print(\"Null hypothesis rejected: the difference is statistically significant for feature\", i)\n",
    "    else:\n",
    "        print(\"Failed to reject the null hypothesis: we can't make conclusions about the difference for feature\", i) "
   ]
  },
  {
   "cell_type": "markdown",
   "metadata": {},
   "source": [
    "We can make conclusion that there is difference between distributions for samples from tariff B and C for all features, except for calls_count feature. We can run further test for sample means equality to verify if there is a statistically significant difference or not."
   ]
  },
  {
   "cell_type": "markdown",
   "metadata": {},
   "source": [
    "Now we can statistically verify that there is a difference between number of missed calls for users on tariffs B and C and hence we should expect more inefficiency from operators serving users from tariff C."
   ]
  },
  {
   "cell_type": "code",
   "execution_count": 50,
   "metadata": {},
   "outputs": [
    {
     "name": "stdout",
     "output_type": "stream",
     "text": [
      "count    17237.000000\n",
      "mean         9.489644\n",
      "std         18.534434\n",
      "min          1.000000\n",
      "25%          1.000000\n",
      "50%          3.000000\n",
      "75%         10.000000\n",
      "max        714.000000\n",
      "Name: calls_count, dtype: float64 \n",
      " count    18209.000000\n",
      "mean        11.175023\n",
      "std         52.336108\n",
      "min          1.000000\n",
      "25%          1.000000\n",
      "50%          3.000000\n",
      "75%         10.000000\n",
      "max       4817.000000\n",
      "Name: calls_count, dtype: float64\n"
     ]
    }
   ],
   "source": [
    "#let's verify that sample means and variances are similar or not before T-test:\n",
    "print(sample_b.calls_count.describe(),'\\n', sample_c.calls_count.describe())"
   ]
  },
  {
   "cell_type": "code",
   "execution_count": 51,
   "metadata": {},
   "outputs": [
    {
     "name": "stdout",
     "output_type": "stream",
     "text": [
      "p-value:  0.869753098054032\n",
      "Failed to reject the null hypothesis: there is no reason to consider the sample means different\n"
     ]
    }
   ],
   "source": [
    "#we see that we should assume unequal variances:\n",
    "alpha = .05\n",
    "st.ttest_ind(sample_b.calls_count, sample_c.calls_count, equal_var = False)\n",
    "print('p-value: ', p_value)\n",
    "\n",
    "if (p_value < alpha):\n",
    "    print(\"Rejecting the null hypothesis: there is a significant difference between the sample means\")\n",
    "else:\n",
    "    print(\"Failed to reject the null hypothesis: there is no reason to consider the sample means different\")"
   ]
  },
  {
   "cell_type": "markdown",
   "metadata": {},
   "source": [
    "<em>In terms of the assumption of normality for the t-test to be carried out - we are testing here sample mean (I think we can assume that users from different tariffs could be treated as independent populations in terms of call features, unless we can directly connect two parties involved in one call being on these 2 tariffs + the data covers specific time frame, so it could be considered as sample from population). Therefore, according to Central limit theorem the sample means will be normally distributed around population mean which is needed for t-test. At the same time we have high number of observations in the samples which pushes the degrees of freedom further + we can assume that the samples and proportions are unpaired. Therefore, I proceeded to test the sample means and proportions.</em>"
   ]
  },
  {
   "cell_type": "markdown",
   "metadata": {},
   "source": [
    "We can see here that we do not have statistical evidence that the means are different - my mistake, but it makes sense with the non-parametric test results. Thus, it it means that if an operator serves with similar chances both users from tariff B and C, still the calls_count feature values could be expected not to be significantly different from each other to say that fact of serving B tariff could have more impact on performance rather than serving C tariff users."
   ]
  },
  {
   "cell_type": "markdown",
   "metadata": {},
   "source": [
    "# Conclusion"
   ]
  },
  {
   "cell_type": "markdown",
   "metadata": {},
   "source": [
    "Based on the observations above we can say that the user behaviour in terms of calls parameters between tariffs A and B, A and C is generally different. There are similarities in distribution for calls_count features observed and verified for users on tariffs B and C, but it is not statistically significant in terms of mean calls count to have impact on efficiency evaluation."
   ]
  }
 ],
 "metadata": {
  "kernelspec": {
   "display_name": "Python 3",
   "language": "python",
   "name": "python3"
  },
  "language_info": {
   "codemirror_mode": {
    "name": "ipython",
    "version": 3
   },
   "file_extension": ".py",
   "mimetype": "text/x-python",
   "name": "python",
   "nbconvert_exporter": "python",
   "pygments_lexer": "ipython3",
   "version": "3.7.7"
  },
  "toc": {
   "base_numbering": 1,
   "nav_menu": {},
   "number_sections": true,
   "sideBar": true,
   "skip_h1_title": true,
   "title_cell": "Table of Contents",
   "title_sidebar": "Contents",
   "toc_cell": false,
   "toc_position": {},
   "toc_section_display": true,
   "toc_window_display": false
  }
 },
 "nbformat": 4,
 "nbformat_minor": 2
}
